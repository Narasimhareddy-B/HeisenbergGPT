{
 "cells": [
  {
   "cell_type": "code",
   "execution_count": 3,
   "metadata": {},
   "outputs": [
    {
     "name": "stderr",
     "output_type": "stream",
     "text": [
      "<>:1: SyntaxWarning: invalid escape sequence '\\c'\n",
      "<>:1: SyntaxWarning: invalid escape sequence '\\c'\n",
      "C:\\Users\\Reddy\\AppData\\Local\\Temp\\ipykernel_16132\\3207924052.py:1: SyntaxWarning: invalid escape sequence '\\c'\n",
      "  file_path =  \"tokenizer\\cleaned_BreakingBadSeason1.txt\"\n"
     ]
    },
    {
     "data": {
      "text/plain": [
       "'cleaned_BreakingBadSeason1'"
      ]
     },
     "execution_count": 3,
     "metadata": {},
     "output_type": "execute_result"
    }
   ],
   "source": [
    "file_path =  \"tokenizer\\cleaned_BreakingBadSeason1.txt\"\n",
    "file_path.split('\\\\')[-1].split('.')[0]"
   ]
  },
  {
   "cell_type": "code",
   "execution_count": 9,
   "metadata": {},
   "outputs": [
    {
     "name": "stdout",
     "output_type": "stream",
     "text": [
      "229\n"
     ]
    }
   ],
   "source": [
    "text = \"<line/> 7 8681 8784 18009 17051 2218 </line> <line/> 25536 29170 1283 8784 3543 587 2037 8861 92 2218 </line> <line/> 17235 727 2994 17235 727 8753 133 475 4375 5892 17051 8784 3543 2634 17087 133 18001 8667 734 13 986 17221 17094 17041 2218 </line> <line/> 7 17223 8907 8784 133 18009 17051 513 8771 9 5122 5893 513 17400 5891 301 8639 17287 1283 7 17571 5895 8784 13 2037 6054 2218 </line> <line/> 23184 2218 </line> <line/> 36279 4371 18876 727 8784 8828 6211 </line> <line/> 25536 4371 7 1988 33443 2218 </line> <line/> 277 13132 462 1283 7 17712 19714 8784 133 43 1702 95 133 17174 1283 3545 1831 1186 220 593 162 6211 </line> <line/> 7 21587 3543 95 17289 17051 2218 </line> <line/> 17235 3543 112 14 4418 1191 17897 13 301 1283 70440 6211 </line> <line/> 36279 4371 7 476 3543 95 18009 17572 8784 3543 587 17660 8667 2218 </line> <line/> 25536 4371 513 6211 </line> <line/> 36279 4371 4372 14 28701 2218 </line> <line/> 25536 4371 1193 3704 3543 96 18266 9273 </line> <line/> 17051 3543 112 4372 8784 6211 </line> <line/> 4383 7 17334 1283 513 254 44 19783 17111 8784 2218 </line> <line/> 36279 4371 17287 1283 7 476 3543 95 18009 17572 8784 17312 8784 3543 587 9066 8828 1283 6314 2218 18397 2218 </line>\"\n",
    "\n",
    "print(len(text.split()))\n"
   ]
  },
  {
   "cell_type": "code",
   "execution_count": null,
   "metadata": {},
   "outputs": [],
   "source": []
  }
 ],
 "metadata": {
  "kernelspec": {
   "display_name": "SnowBall",
   "language": "python",
   "name": "python3"
  },
  "language_info": {
   "codemirror_mode": {
    "name": "ipython",
    "version": 3
   },
   "file_extension": ".py",
   "mimetype": "text/x-python",
   "name": "python",
   "nbconvert_exporter": "python",
   "pygments_lexer": "ipython3",
   "version": "3.12.8"
  }
 },
 "nbformat": 4,
 "nbformat_minor": 2
}
