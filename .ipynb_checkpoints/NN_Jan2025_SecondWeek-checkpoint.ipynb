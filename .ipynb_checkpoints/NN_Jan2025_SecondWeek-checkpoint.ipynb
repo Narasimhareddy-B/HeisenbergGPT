{
 "cells": [
  {
   "cell_type": "markdown",
   "id": "a6450159-d7b7-4171-88c6-100ea36aadf1",
   "metadata": {},
   "source": [
    "## 8th January"
   ]
  },
  {
   "cell_type": "code",
   "execution_count": null,
   "id": "d34ae188-3f5e-41d8-b497-3111aed9b37a",
   "metadata": {},
   "outputs": [],
   "source": []
  }
 ],
 "metadata": {
  "kernelspec": {
   "display_name": "Python 3 (ipykernel)",
   "language": "python",
   "name": "python3"
  },
  "language_info": {
   "codemirror_mode": {
    "name": "ipython",
    "version": 3
   },
   "file_extension": ".py",
   "mimetype": "text/x-python",
   "name": "python",
   "nbconvert_exporter": "python",
   "pygments_lexer": "ipython3",
   "version": "3.12.7"
  }
 },
 "nbformat": 4,
 "nbformat_minor": 5
}
