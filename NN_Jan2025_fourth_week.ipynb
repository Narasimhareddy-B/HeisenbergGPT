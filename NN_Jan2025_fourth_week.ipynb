{
 "cells": [
  {
   "cell_type": "markdown",
   "metadata": {},
   "source": [
    "## 22nd January"
   ]
  },
  {
   "cell_type": "markdown",
   "metadata": {},
   "source": [
    "Touched upon previously developed Data_preprocessing.py  and also reviewed first week notebook to get familiarity with Breaking bad dataset reading and cleaning,. etc other tasks"
   ]
  },
  {
   "cell_type": "markdown",
   "metadata": {},
   "source": [
    "## 23rd January"
   ]
  },
  {
   "cell_type": "markdown",
   "metadata": {},
   "source": [
    "Understanding all the code in tokenize_dataset.py in GPT1 implementation"
   ]
  },
  {
   "cell_type": "markdown",
   "metadata": {},
   "source": [
    "started working on data_preprocessing.py where I am including the functionality of tokenization of input subtitles data by refering tokenize_dataset.\n",
    "\n",
    "Currently coding for BreakingBad class methods such as ( tokenize, get_line_ids)\n",
    "Need to add code for class methods merge_bytes and get_byte_ids in BPETokenizer in bpe_tokenizer.py"
   ]
  },
  {
   "cell_type": "markdown",
   "metadata": {},
   "source": [
    "### 24th January"
   ]
  },
  {
   "cell_type": "markdown",
   "metadata": {},
   "source": [
    "Completed code for merge_butes and get_byte_ids in BPETokenizer in bpe_tokenizer"
   ]
  },
  {
   "cell_type": "markdown",
   "metadata": {},
   "source": [
    "### 25th January"
   ]
  },
  {
   "cell_type": "markdown",
   "metadata": {},
   "source": [
    "Fully Occupied(went for Dinner on Pavan's & Ruchi's Invitation)"
   ]
  },
  {
   "cell_type": "markdown",
   "metadata": {},
   "source": [
    "### 26th January"
   ]
  },
  {
   "cell_type": "markdown",
   "metadata": {},
   "source": [
    "Flask Tutorials completed( in krish naik's Udemy course for MLops)"
   ]
  },
  {
   "cell_type": "markdown",
   "metadata": {},
   "source": [
    "### 27th January"
   ]
  },
  {
   "cell_type": "markdown",
   "metadata": {},
   "source": [
    "Watching Krish Naik's LLM ops course( covered GIT best prcatices and a little bit of deployment of ML projects on AWS EC2 instance)"
   ]
  },
  {
   "cell_type": "markdown",
   "metadata": {},
   "source": [
    "### 28th Janurary"
   ]
  },
  {
   "cell_type": "markdown",
   "metadata": {},
   "source": [
    "Deployment in sagemaker content in Krish Naik's Udemy LLMops course "
   ]
  },
  {
   "cell_type": "markdown",
   "metadata": {},
   "source": [
    "### 29th January"
   ]
  },
  {
   "cell_type": "markdown",
   "metadata": {},
   "source": [
    "Almost covered model.py in GPT1 (understanding)"
   ]
  },
  {
   "cell_type": "code",
   "execution_count": 4,
   "metadata": {},
   "outputs": [
    {
     "name": "stdout",
     "output_type": "stream",
     "text": [
      "Fetching https://example.com in Thread-18144\n",
      "Fetching https://httpbin.org/get in Thread-27748\n",
      "Fetching https://jsonplaceholder.typicode.com/todos/1 in Thread-30588\n",
      "Done https://httpbin.org/get: 308 bytes\n",
      "Done https://jsonplaceholder.typicode.com/todos/1: 83 bytes\n",
      "Done https://example.com: 1256 bytes\n",
      "Total time: 1.81 seconds\n"
     ]
    }
   ],
   "source": [
    "import threading\n",
    "import requests\n",
    "import time\n",
    "\n",
    "urls = [\n",
    "    \"https://example.com\",\n",
    "    \"https://httpbin.org/get\",\n",
    "    \"https://jsonplaceholder.typicode.com/todos/1\"\n",
    "]\n",
    "\n",
    "def fetch_url(url):\n",
    "    print(f\"Fetching {url} in Thread-{threading.get_ident()}\")\n",
    "    response = requests.get(url)\n",
    "    print(f\"Done {url}: {len(response.content)} bytes\")\n",
    "\n",
    "threads = []\n",
    "\n",
    "start = time.time()\n",
    "for url in urls:\n",
    "    thread = threading.Thread(target=fetch_url, args=(url,))\n",
    "    thread.start()\n",
    "    threads.append(thread)\n",
    "\n",
    "for thread in threads:\n",
    "    thread.join()\n",
    "\n",
    "end = time.time()\n",
    "print(f\"Total time: {end - start:.2f} seconds\")\n"
   ]
  },
  {
   "cell_type": "markdown",
   "metadata": {},
   "source": [
    "### 30th January"
   ]
  },
  {
   "cell_type": "markdown",
   "metadata": {},
   "source": [
    "Running the tokenizer for Wiki data Wikipedia directory"
   ]
  },
  {
   "cell_type": "code",
   "execution_count": 2,
   "metadata": {},
   "outputs": [
    {
     "name": "stdout",
     "output_type": "stream",
     "text": [
      "['AllCombined.txt']\n"
     ]
    }
   ],
   "source": [
    "import os\n",
    "print(os.listdir('Wikipedia'))"
   ]
  },
  {
   "cell_type": "markdown",
   "metadata": {},
   "source": []
  }
 ],
 "metadata": {
  "kernelspec": {
   "display_name": "SnowBall",
   "language": "python",
   "name": "python3"
  },
  "language_info": {
   "codemirror_mode": {
    "name": "ipython",
    "version": 3
   },
   "file_extension": ".py",
   "mimetype": "text/x-python",
   "name": "python",
   "nbconvert_exporter": "python",
   "pygments_lexer": "ipython3",
   "version": "3.12.8"
  }
 },
 "nbformat": 4,
 "nbformat_minor": 2
}
