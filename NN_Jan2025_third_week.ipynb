{
 "cells": [
  {
   "cell_type": "markdown",
   "metadata": {},
   "source": [
    "## 15th, 16th, 18th and 19th January"
   ]
  },
  {
   "cell_type": "markdown",
   "metadata": {},
   "source": [
    "completely occupied with work.(interviews, talks with recruiters)"
   ]
  },
  {
   "cell_type": "code",
   "execution_count": 14,
   "metadata": {},
   "outputs": [
    {
     "name": "stderr",
     "output_type": "stream",
     "text": [
      "Reading files:   0%|          | 0/1 [00:00<?, ?it/s]"
     ]
    },
    {
     "name": "stderr",
     "output_type": "stream",
     "text": [
      "Reading files: 100%|██████████| 1/1 [04:35<00:00, 275.41s/it]\n",
      "Merging Pairs: 100%|██████████| 10/10 [00:13<00:00,  1.32s/it]\n"
     ]
    },
    {
     "ename": "TypeError",
     "evalue": "BPETokenizer.__init__() takes 1 positional argument but 4 were given",
     "output_type": "error",
     "traceback": [
      "\u001b[1;31m---------------------------------------------------------------------------\u001b[0m",
      "\u001b[1;31mTypeError\u001b[0m                                 Traceback (most recent call last)",
      "Cell \u001b[1;32mIn[14], line 7\u001b[0m\n\u001b[0;32m      5\u001b[0m parent_dir \u001b[38;5;241m=\u001b[39m os\u001b[38;5;241m.\u001b[39mgetcwd()\n\u001b[0;32m      6\u001b[0m wiki_file \u001b[38;5;241m=\u001b[39m [os\u001b[38;5;241m.\u001b[39mpath\u001b[38;5;241m.\u001b[39mjoin(parent_dir,\u001b[38;5;124m'\u001b[39m\u001b[38;5;124mAllCombined.txt\u001b[39m\u001b[38;5;124m'\u001b[39m)]\n\u001b[1;32m----> 7\u001b[0m bpe_tokenizer \u001b[38;5;241m=\u001b[39m \u001b[43mBPETokenizer\u001b[49m\u001b[38;5;241;43m.\u001b[39;49m\u001b[43mtrain_tokenizer\u001b[49m\u001b[43m(\u001b[49m\u001b[43mwiki_file\u001b[49m\u001b[43m,\u001b[49m\u001b[43m \u001b[49m\u001b[43mmin_freq\u001b[49m\u001b[38;5;241;43m=\u001b[39;49m\u001b[38;5;241;43m5\u001b[39;49m\u001b[43m,\u001b[49m\u001b[43m \u001b[49m\u001b[43mmerges\u001b[49m\u001b[38;5;241;43m=\u001b[39;49m\u001b[38;5;241;43m10\u001b[39;49m\u001b[43m)\u001b[49m\n",
      "File \u001b[1;32mc:\\Users\\Reddy\\Desktop\\Neural Networks\\makemore(Andrej Karpathy)\\d2l_pytorch Implementation\\Jan2025\\bpe_tokenizer.py:25\u001b[0m, in \u001b[0;36mtrain_tokenizer\u001b[1;34m(file_paths, min_freq, merges)\u001b[0m\n\u001b[0;32m     23\u001b[0m truncate_vocab(vocab, min_freq)\n\u001b[0;32m     24\u001b[0m bpe_vocab \u001b[38;5;241m=\u001b[39m create_bpe_vocab(vocab)\n\u001b[1;32m---> 25\u001b[0m \u001b[38;5;28;01mfor\u001b[39;00m i \u001b[38;5;129;01min\u001b[39;00m trange(merges, desc\u001b[38;5;241m=\u001b[39m\u001b[38;5;124m'\u001b[39m\u001b[38;5;124mMerging Pairs\u001b[39m\u001b[38;5;124m'\u001b[39m):\n\u001b[0;32m     26\u001b[0m     pairs \u001b[38;5;241m=\u001b[39m get_stats(bpe_vocab)\n\u001b[0;32m     27\u001b[0m     \u001b[38;5;28;01mif\u001b[39;00m \u001b[38;5;28mlen\u001b[39m(pairs) \u001b[38;5;241m==\u001b[39m \u001b[38;5;241m0\u001b[39m:\n",
      "\u001b[1;31mTypeError\u001b[0m: BPETokenizer.__init__() takes 1 positional argument but 4 were given"
     ]
    }
   ],
   "source": [
    "from  bpe_tokenizer import BPETokenizer\n",
    "import os\n",
    "\n",
    "\n",
    "parent_dir = os.getcwd()\n",
    "wiki_file = [os.path.join(parent_dir,'AllCombined.txt')]\n",
    "bpe_tokenizer = BPETokenizer.train_tokenizer(wiki_file, min_freq=5, merges=10)\n"
   ]
  },
  {
   "cell_type": "markdown",
   "metadata": {},
   "source": [
    "Training the tokenizer with data of Wikipedia articles(150+ MB)\n",
    "\n",
    "It is taking almost 35 hours to finish\n",
    "\n",
    "Creating a standard vocab for tokenizer with around 100k vocab size"
   ]
  },
  {
   "cell_type": "markdown",
   "metadata": {},
   "source": [
    "### 20th January"
   ]
  },
  {
   "cell_type": "markdown",
   "metadata": {},
   "source": [
    "Finished understanding about the training tokenizer(train_bpe) and tokenizing the dataset (tokenize_dataset)"
   ]
  },
  {
   "cell_type": "markdown",
   "metadata": {},
   "source": [
    "in the evening planning to tokenize the whole Breaking bad subtitles."
   ]
  },
  {
   "cell_type": "markdown",
   "metadata": {},
   "source": [
    "### 21st January"
   ]
  },
  {
   "cell_type": "markdown",
   "metadata": {},
   "source": [
    "spent all day reviewing micro1 and recvue docs for offer."
   ]
  },
  {
   "cell_type": "markdown",
   "metadata": {},
   "source": []
  }
 ],
 "metadata": {
  "kernelspec": {
   "display_name": "SnowBall",
   "language": "python",
   "name": "python3"
  },
  "language_info": {
   "codemirror_mode": {
    "name": "ipython",
    "version": 3
   },
   "file_extension": ".py",
   "mimetype": "text/x-python",
   "name": "python",
   "nbconvert_exporter": "python",
   "pygments_lexer": "ipython3",
   "version": "3.12.8"
  }
 },
 "nbformat": 4,
 "nbformat_minor": 2
}
